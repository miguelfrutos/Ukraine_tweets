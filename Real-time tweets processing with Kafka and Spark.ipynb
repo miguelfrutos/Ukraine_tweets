{
 "cells": [
  {
   "cell_type": "markdown",
   "id": "1bb94174",
   "metadata": {},
   "source": [
    "<img width=\"200\" style=\"float:left\" \n",
    "     src=\"https://upload.wikimedia.org/wikipedia/commons/f/f3/Apache_Spark_logo.svg\" /> "
   ]
  },
  {
   "cell_type": "markdown",
   "id": "0abf9ef9",
   "metadata": {},
   "source": [
    "<img style=\"float:left;\" \n",
    "     src=\"https://secemu.org/wp-content/uploads/2016/02/Twitter-Banner-1024x385.png\" />   "
   ]
  },
  {
   "cell_type": "markdown",
   "id": "1ee7dc66",
   "metadata": {},
   "source": [
    "# Sections\n",
    "* [Description](#0)\n",
    "* [1. Setup](#1) \n",
    "  * [1.1 Start the Kafka service and the producer](#1.1)\n",
    "  * [1.2 Search for Spark Installation](#1.2)\n",
    "  * [1.3 Create SparkSession](#1.3)\n",
    "* [2. Use case](#2) \n",
    "  * [2.1 Main DataFrame creation](#2.1)\n",
    "  * [2.2 Map the sequence of bytes to a proper JSON document and display contents](#2.2)\n",
    "* [3. Finalize the exercise](#3)\n",
    "  * [3.1 Stop the Spark Streaming application](#3.1)\n",
    "  * [3.2 Stop the Kafka producer](#3.2)\n",
    "  * [3.3 Stop the Kafka service](#3.3)"
   ]
  },
  {
   "cell_type": "markdown",
   "id": "f92b7c91",
   "metadata": {},
   "source": [
    "<a id='0'></a>\n",
    "## Description\n",
    "<p>\n",
    "<div>This notebook will help you address the following:</div>\n",
    "<ul>    \n",
    "    <li>Consume events from a Kafka topic called <em>tweets</em></li>\n",
    "    <li>Translate tweets ingested in raw format (sequence of bytes) into the proper JSON format</li>\n",
    "    <li>See how to manipulate tweets - use your imagination here to implement a use case you like</li>\n",
    "    <li>Display the results of the manipulation on the consule; continue the journey of the real-time solution by yourself (ex. publish results in Kafka, MariaDB, MongoDB, ...)</li>\n",
    "</ul>    \n",
    "</p>"
   ]
  },
  {
   "cell_type": "markdown",
   "id": "5d81aa63",
   "metadata": {},
   "source": [
    "<a id='1'></a>\n",
    "## 1. Setup"
   ]
  },
  {
   "cell_type": "markdown",
   "id": "d331e2ce",
   "metadata": {},
   "source": [
    "<a id='1.1'></a>\n",
    "### 1.1 Start the Kafka service and the producer \n",
    "<p>Before you can run this notebook, be sure that you log into the course environment and:</p>\n",
    "<ul>\n",
    "    <li><p><b>Start the Kafka service</b>:\n",
    "        <br/><em>\\$ sudo service kafka start</p></em></li>\n",
    "    <li><b>Install the required libraries</b> entailed in the <b>requirements.txt</b> file:\n",
    "        <br/><em>\\$ pip install -r requirements.txt</p></em></li>\n",
    "    <li>Add your <b>API key</b>, <b>API secret</b>, <b>access token</b> and <b>access secret</b> to the <em>credentials.ini</em> file</li>\n",
    "    <li><p><b>Start the producer</b> connecting to Twitter and filtering tweets by keywords or hashtags:\n",
    "        <br/><em>\\$ python3 twitter_producer.py credentials.ini \"btc,#eth,ada\" -b localhost:9092 -t tweets</em></p></li>\n",
    "</ul>"
   ]
  },
  {
   "cell_type": "markdown",
   "id": "ff256c43",
   "metadata": {},
   "source": [
    "<a id='1.2'></a>\n",
    "### 1.2 Search for Spark Installation \n",
    "This step is required just because we are working in the course environment."
   ]
  },
  {
   "cell_type": "code",
   "execution_count": 1,
   "id": "69246e24",
   "metadata": {},
   "outputs": [],
   "source": [
    "import findspark\n",
    "findspark.init()"
   ]
  },
  {
   "cell_type": "markdown",
   "id": "de82ec90",
   "metadata": {},
   "source": [
    "<a id='1.3'></a>\n",
    "### 1.3 Create SparkSession\n",
    "\n",
    "In addition to create the Spark Session, we're going to set up a variable environment to include extra libraries in our \"cluster\".<br/>\n",
    "In this case we're including the Spark package as our job will connect to Kafka."
   ]
  },
  {
   "cell_type": "code",
   "execution_count": 2,
   "id": "26503986",
   "metadata": {},
   "outputs": [
    {
     "name": "stderr",
     "output_type": "stream",
     "text": [
      "WARNING: An illegal reflective access operation has occurred\n",
      "WARNING: Illegal reflective access by org.apache.spark.unsafe.Platform (file:/opt/spark3/jars/spark-unsafe_2.12-3.0.3.jar) to constructor java.nio.DirectByteBuffer(long,int)\n",
      "WARNING: Please consider reporting this to the maintainers of org.apache.spark.unsafe.Platform\n",
      "WARNING: Use --illegal-access=warn to enable warnings of further illegal reflective access operations\n",
      "WARNING: All illegal access operations will be denied in a future release\n",
      "Ivy Default Cache set to: /home/osbdet/.ivy2/cache\n",
      "The jars for the packages stored in: /home/osbdet/.ivy2/jars\n",
      ":: loading settings :: url = jar:file:/opt/spark3/jars/ivy-2.4.0.jar!/org/apache/ivy/core/settings/ivysettings.xml\n",
      "org.apache.spark#spark-sql-kafka-0-10_2.12 added as a dependency\n",
      ":: resolving dependencies :: org.apache.spark#spark-submit-parent-96f523c6-9080-49ae-b7a1-71ebe3e2140d;1.0\n",
      "\tconfs: [default]\n",
      "\tfound org.apache.spark#spark-sql-kafka-0-10_2.12;3.0.3 in central\n",
      "\tfound org.apache.spark#spark-token-provider-kafka-0-10_2.12;3.0.3 in central\n",
      "\tfound org.apache.kafka#kafka-clients;2.4.1 in central\n",
      "\tfound com.github.luben#zstd-jni;1.4.4-3 in central\n",
      "\tfound org.lz4#lz4-java;1.7.1 in central\n",
      "\tfound org.xerial.snappy#snappy-java;1.1.8.2 in central\n",
      "\tfound org.slf4j#slf4j-api;1.7.30 in central\n",
      "\tfound org.spark-project.spark#unused;1.0.0 in central\n",
      "\tfound org.apache.commons#commons-pool2;2.6.2 in central\n",
      ":: resolution report :: resolve 620ms :: artifacts dl 10ms\n",
      "\t:: modules in use:\n",
      "\tcom.github.luben#zstd-jni;1.4.4-3 from central in [default]\n",
      "\torg.apache.commons#commons-pool2;2.6.2 from central in [default]\n",
      "\torg.apache.kafka#kafka-clients;2.4.1 from central in [default]\n",
      "\torg.apache.spark#spark-sql-kafka-0-10_2.12;3.0.3 from central in [default]\n",
      "\torg.apache.spark#spark-token-provider-kafka-0-10_2.12;3.0.3 from central in [default]\n",
      "\torg.lz4#lz4-java;1.7.1 from central in [default]\n",
      "\torg.slf4j#slf4j-api;1.7.30 from central in [default]\n",
      "\torg.spark-project.spark#unused;1.0.0 from central in [default]\n",
      "\torg.xerial.snappy#snappy-java;1.1.8.2 from central in [default]\n",
      "\t---------------------------------------------------------------------\n",
      "\t|                  |            modules            ||   artifacts   |\n",
      "\t|       conf       | number| search|dwnlded|evicted|| number|dwnlded|\n",
      "\t---------------------------------------------------------------------\n",
      "\t|      default     |   9   |   0   |   0   |   0   ||   9   |   0   |\n",
      "\t---------------------------------------------------------------------\n",
      ":: retrieving :: org.apache.spark#spark-submit-parent-96f523c6-9080-49ae-b7a1-71ebe3e2140d\n",
      "\tconfs: [default]\n",
      "\t0 artifacts copied, 9 already retrieved (0kB/11ms)\n",
      "Setting default log level to \"WARN\".\n",
      "To adjust logging level use sc.setLogLevel(newLevel). For SparkR, use setLogLevel(newLevel).\n"
     ]
    }
   ],
   "source": [
    "import os\n",
    "os.environ['PYSPARK_SUBMIT_ARGS'] = '--packages \"org.apache.spark:spark-sql-kafka-0-10_2.12:3.0.3\" pyspark-shell'\n",
    "\n",
    "from pyspark.context import SparkContext\n",
    "from pyspark.sql.session import SparkSession\n",
    "\n",
    "spark = SparkSession.builder.appName(\"Twitter\").getOrCreate()"
   ]
  },
  {
   "cell_type": "markdown",
   "id": "543d68f9",
   "metadata": {},
   "source": [
    "<a id='2'></a>\n",
    "## 2. Use Case"
   ]
  },
  {
   "cell_type": "markdown",
   "id": "dee50d87",
   "metadata": {},
   "source": [
    "<a id='2.1'></a>\n",
    "### 2.1 Main DataFrame creation\n",
    "<p>Have a look at the schema you get by default when you create a DataFrame on top of a Kafka topic.<br/> The <b><em>value field</b></em> is the one containing the data from the <em>ingestion layer</em>, the Twitter producer in our case.</p>\n",
    "<p>Bear in mind thataAs <em>we're simplifying things</em>, we're not relying on schemas and <b>we're sending sequence of bytes to Kafka topics</b>.</p>\n",
    "<p>Later in the notebook, we're going to convert that sequence of bytes in a proper JSON document representing every tweet as it was received.</p>"
   ]
  },
  {
   "cell_type": "code",
   "execution_count": 3,
   "id": "8be323cd",
   "metadata": {},
   "outputs": [
    {
     "data": {
      "text/plain": [
       "DataFrame[key: binary, value: binary, topic: string, partition: int, offset: bigint, timestamp: timestamp, timestampType: int]"
      ]
     },
     "execution_count": 3,
     "metadata": {},
     "output_type": "execute_result"
    }
   ],
   "source": [
    "rawTweetsDF = spark.readStream \\\n",
    "                   .format(\"kafka\") \\\n",
    "                   .option(\"kafka.bootstrap.servers\", \"localhost:9092\") \\\n",
    "                   .option(\"subscribe\", \"tweets\") \\\n",
    "                   .option(\"startingOffsets\", \"latest\") \\\n",
    "                   .load()\n",
    "rawTweetsDF"
   ]
  },
  {
   "cell_type": "markdown",
   "id": "d1eb2dd8",
   "metadata": {},
   "source": [
    "<a id='2.2'></a>\n",
    "### 2.2 Map the sequence of bytes to a proper JSON document and display contents\n",
    "We're going to apply the following logic to the events we get from the topic:\n",
    "<ol>\n",
    "    <li>Define the schema that matches the raw sequence of bytes we get from the topic.</li>\n",
    "    <li>Cast the default data type of the field <em>value</em> (byte) to the String data type.</li>\n",
    "    <li>Convert the String into a proper JSON document by using the <em>from_json</em> function.</li>\n",
    "    <li>Flatten the JSON file and display event time, user name, text and the id.</li>\n",
    "    <li>Display the results in the console.</li>\n",
    "</ol>\n",
    "\n",
    "Watch the schema we get now, it looks like any other DataFrame we've seen up until now... this is <b>a real unified processing framework</b>."
   ]
  },
  {
   "cell_type": "code",
   "execution_count": 4,
   "id": "a7001996",
   "metadata": {},
   "outputs": [],
   "source": [
    "# 1. Schema of a tweet coming from Twitter.\n",
    "\n",
    "tweet_schema=\"\"\"\n",
    "created_at string,\n",
    "id bigint,\n",
    "id_str string,\n",
    "text string,\n",
    "source string,\n",
    "truncated boolean,\n",
    "in_reply_to_status_id bigint,\n",
    "in_reply_to_status_id_str string,\n",
    "in_reply_to_user_id bigint,\n",
    "in_reply_to_user_id_str string,\n",
    "in_reply_to_screen_name string,\n",
    "`user` struct<\n",
    "            id:bigint,\n",
    "            id_str:string,\n",
    "            name:string,\n",
    "            screen_name:string,\n",
    "            location:string,\n",
    "            url:string,\n",
    "            description:string,\n",
    "            protected:boolean,\n",
    "            verified:boolean,\n",
    "            followers_count:bigint,\n",
    "            friends_count:bigint,\n",
    "            listed_count:bigint,\n",
    "            favourites_count:bigint,\n",
    "            statuses_count:bigint,\n",
    "            created_at:string,\n",
    "            profile_banner_url:string,\n",
    "            profile_image_url_https:string,\n",
    "            default_profile:boolean,\n",
    "            default_profile_image:boolean,\n",
    "            withheld_in_countries: array<string>,\n",
    "            withheld_scope:string,\n",
    "            geo_enabled:boolean\n",
    "            >,\n",
    "coordinates struct <\n",
    "            coordinates:array<float>,\n",
    "            type:string\n",
    "            >,\n",
    "place struct<\n",
    "            country:string,\n",
    "            country_code:string,\n",
    "            full_name:string,\n",
    "            place_type:string,\n",
    "            url:string\n",
    "            >,\n",
    "quoted_status_id bigint,\n",
    "quoted_status_id_str string,\n",
    "is_quote_status boolean,\n",
    "quote_count bigint,\n",
    "reply_count bigint,\n",
    "retweet_count bigint,\n",
    "favorite_count bigint,\n",
    "entities struct<\n",
    "            user_mentions:array<struct<screen_name:string>>,\n",
    "            hashtags:array<struct<text:string>>, \n",
    "            media:array<struct<expanded_url:string>>, \n",
    "            urls:array<struct<expanded_url:string>>, \n",
    "            symbols:array<struct<text:string>>\n",
    "            >,\n",
    "favorited boolean,\n",
    "retweeted boolean,\n",
    "possibly_sensitive boolean,\n",
    "filter_level string,\n",
    "lang string\n",
    "\"\"\""
   ]
  },
  {
   "cell_type": "code",
   "execution_count": 5,
   "id": "5b0c8bbe",
   "metadata": {},
   "outputs": [],
   "source": [
    "from pyspark.sql.types import StructType,StructField, StringType, IntegerType\n",
    "from pyspark.sql.functions import from_json, col\n",
    "\n",
    "# 2. Cast the default data type of the field value (byte) to the String data type.\n",
    "# 3. Convert the String into a proper JSON document by using the from_json function.\n",
    "# 4. Flatten the JSON file and display event time, user name, text and the id.\n",
    "\n",
    "tweetsDF = rawTweetsDF.selectExpr(\"CAST(value AS STRING)\") \\\n",
    "                      .select(from_json(col(\"value\"), tweet_schema).alias(\"data\")) \\\n",
    "                      .select(col(\"data.created_at\").alias(\"event_time\"), \n",
    "                              col(\"data.user.screen_name\"),\n",
    "                              col(\"data.entities.hashtags\"),\n",
    "                              col(\"data.coordinates.coordinates\"),\n",
    "                              col(\"data.place.country\"),\n",
    "                              col(\"data.place.country_code\"),\n",
    "                              col(\"data.user.location\")) \\\n",
    "                      .filter((col(\"data.place.country_code\")==\"UA\"))"
   ]
  },
  {
   "cell_type": "code",
   "execution_count": null,
   "id": "55be9641",
   "metadata": {},
   "outputs": [
    {
     "name": "stdout",
     "output_type": "stream",
     "text": [
      "-------------------------------------------\n",
      "Batch: 0\n",
      "-------------------------------------------\n",
      "+----------+-----------+--------+-----------+-------+------------+--------+\n",
      "|event_time|screen_name|hashtags|coordinates|country|country_code|location|\n",
      "+----------+-----------+--------+-----------+-------+------------+--------+\n",
      "+----------+-----------+--------+-----------+-------+------------+--------+\n",
      "\n"
     ]
    },
    {
     "name": "stderr",
     "output_type": "stream",
     "text": [
      "                                                                                \r"
     ]
    },
    {
     "name": "stdout",
     "output_type": "stream",
     "text": [
      "-------------------------------------------\n",
      "Batch: 1\n",
      "-------------------------------------------\n",
      "+--------------------+------------+--------+-----------+-------+------------+--------+\n",
      "|          event_time| screen_name|hashtags|coordinates|country|country_code|location|\n",
      "+--------------------+------------+--------+-----------+-------+------------+--------+\n",
      "|Wed Mar 09 17:27:...|NFT__ukraine|      []|       null|Украина|          UA| Украина|\n",
      "+--------------------+------------+--------+-----------+-------+------------+--------+\n",
      "\n",
      "-------------------------------------------\n",
      "Batch: 2\n",
      "-------------------------------------------\n",
      "+--------------------+-----------+--------+-----------+-------+------------+--------+\n",
      "|          event_time|screen_name|hashtags|coordinates|country|country_code|location|\n",
      "+--------------------+-----------+--------+-----------+-------+------------+--------+\n",
      "|Wed Mar 09 17:27:...|mnogocoffee|      []|       null|Украина|          UA| Украина|\n",
      "+--------------------+-----------+--------+-----------+-------+------------+--------+\n",
      "\n",
      "-------------------------------------------\n",
      "Batch: 3\n",
      "-------------------------------------------\n",
      "+--------------------+------------+--------+-----------+-------+------------+--------+\n",
      "|          event_time| screen_name|hashtags|coordinates|country|country_code|location|\n",
      "+--------------------+------------+--------+-----------+-------+------------+--------+\n",
      "|Wed Mar 09 17:27:...|NFT__ukraine|      []|       null|Украина|          UA| Украина|\n",
      "+--------------------+------------+--------+-----------+-------+------------+--------+\n",
      "\n",
      "-------------------------------------------\n",
      "Batch: 4\n",
      "-------------------------------------------\n",
      "+----------+-----------+--------+-----------+-------+------------+--------+\n",
      "|event_time|screen_name|hashtags|coordinates|country|country_code|location|\n",
      "+----------+-----------+--------+-----------+-------+------------+--------+\n",
      "+----------+-----------+--------+-----------+-------+------------+--------+\n",
      "\n"
     ]
    },
    {
     "name": "stderr",
     "output_type": "stream",
     "text": [
      "\r",
      "[Stage 5:>                                                          (0 + 1) / 1]\r",
      "\r",
      "                                                                                \r"
     ]
    },
    {
     "name": "stdout",
     "output_type": "stream",
     "text": [
      "-------------------------------------------\n",
      "Batch: 5\n",
      "-------------------------------------------\n",
      "+--------------------+------------+--------+-----------+-------+------------+--------+\n",
      "|          event_time| screen_name|hashtags|coordinates|country|country_code|location|\n",
      "+--------------------+------------+--------+-----------+-------+------------+--------+\n",
      "|Wed Mar 09 17:27:...|NFT__ukraine|      []|       null|Украина|          UA| Украина|\n",
      "+--------------------+------------+--------+-----------+-------+------------+--------+\n",
      "\n",
      "-------------------------------------------\n",
      "Batch: 6\n",
      "-------------------------------------------\n",
      "+----------+-----------+--------+-----------+-------+------------+--------+\n",
      "|event_time|screen_name|hashtags|coordinates|country|country_code|location|\n",
      "+----------+-----------+--------+-----------+-------+------------+--------+\n",
      "+----------+-----------+--------+-----------+-------+------------+--------+\n",
      "\n",
      "-------------------------------------------\n",
      "Batch: 7\n",
      "-------------------------------------------\n",
      "+--------------------+------------+--------+-----------+-------+------------+--------+\n",
      "|          event_time| screen_name|hashtags|coordinates|country|country_code|location|\n",
      "+--------------------+------------+--------+-----------+-------+------------+--------+\n",
      "|Wed Mar 09 17:27:...|NFT__ukraine|      []|       null|Украина|          UA| Украина|\n",
      "+--------------------+------------+--------+-----------+-------+------------+--------+\n",
      "\n",
      "-------------------------------------------\n",
      "Batch: 8\n",
      "-------------------------------------------\n",
      "+--------------------+------------+--------+-----------+-------+------------+--------+\n",
      "|          event_time| screen_name|hashtags|coordinates|country|country_code|location|\n",
      "+--------------------+------------+--------+-----------+-------+------------+--------+\n",
      "|Wed Mar 09 17:27:...|NFT__ukraine|      []|       null|Украина|          UA| Украина|\n",
      "+--------------------+------------+--------+-----------+-------+------------+--------+\n",
      "\n",
      "-------------------------------------------\n",
      "Batch: 9\n",
      "-------------------------------------------\n",
      "+--------------------+--------------+--------+-----------+-------+------------+--------+\n",
      "|          event_time|   screen_name|hashtags|coordinates|country|country_code|location|\n",
      "+--------------------+--------------+--------+-----------+-------+------------+--------+\n",
      "|Wed Mar 09 17:27:...|elen_zakharova|      []|       null|Украина|          UA|  Москва|\n",
      "+--------------------+--------------+--------+-----------+-------+------------+--------+\n",
      "\n",
      "-------------------------------------------\n",
      "Batch: 10\n",
      "-------------------------------------------\n",
      "+--------------------+------------+--------+-----------+-------+------------+--------+\n",
      "|          event_time| screen_name|hashtags|coordinates|country|country_code|location|\n",
      "+--------------------+------------+--------+-----------+-------+------------+--------+\n",
      "|Wed Mar 09 17:27:...|NFT__ukraine|      []|       null|Украина|          UA| Украина|\n",
      "+--------------------+------------+--------+-----------+-------+------------+--------+\n",
      "\n",
      "-------------------------------------------\n",
      "Batch: 11\n",
      "-------------------------------------------\n",
      "+----------+-----------+--------+-----------+-------+------------+--------+\n",
      "|event_time|screen_name|hashtags|coordinates|country|country_code|location|\n",
      "+----------+-----------+--------+-----------+-------+------------+--------+\n",
      "+----------+-----------+--------+-----------+-------+------------+--------+\n",
      "\n",
      "-------------------------------------------\n",
      "Batch: 12\n",
      "-------------------------------------------\n",
      "+--------------------+------------+--------+-----------+-------+------------+--------+\n",
      "|          event_time| screen_name|hashtags|coordinates|country|country_code|location|\n",
      "+--------------------+------------+--------+-----------+-------+------------+--------+\n",
      "|Wed Mar 09 17:28:...|NFT__ukraine|      []|       null|Украина|          UA| Украина|\n",
      "+--------------------+------------+--------+-----------+-------+------------+--------+\n",
      "\n"
     ]
    },
    {
     "name": "stderr",
     "output_type": "stream",
     "text": [
      "\r",
      "[Stage 13:>                                                         (0 + 1) / 1]\r",
      "\r",
      "                                                                                \r"
     ]
    },
    {
     "name": "stdout",
     "output_type": "stream",
     "text": [
      "-------------------------------------------\n",
      "Batch: 13\n",
      "-------------------------------------------\n",
      "+--------------------+------------+--------+-----------+-------+------------+--------+\n",
      "|          event_time| screen_name|hashtags|coordinates|country|country_code|location|\n",
      "+--------------------+------------+--------+-----------+-------+------------+--------+\n",
      "|Wed Mar 09 17:28:...|NFT__ukraine|      []|       null|Украина|          UA| Украина|\n",
      "+--------------------+------------+--------+-----------+-------+------------+--------+\n",
      "\n"
     ]
    },
    {
     "name": "stderr",
     "output_type": "stream",
     "text": [
      "\r",
      "[Stage 14:>                                                         (0 + 1) / 1]\r",
      "\r",
      "                                                                                \r"
     ]
    },
    {
     "name": "stdout",
     "output_type": "stream",
     "text": [
      "-------------------------------------------\n",
      "Batch: 14\n",
      "-------------------------------------------\n",
      "+--------------------+------------+--------+-----------+-------+------------+--------+\n",
      "|          event_time| screen_name|hashtags|coordinates|country|country_code|location|\n",
      "+--------------------+------------+--------+-----------+-------+------------+--------+\n",
      "|Wed Mar 09 17:28:...|NFT__ukraine|      []|       null|Украина|          UA| Украина|\n",
      "+--------------------+------------+--------+-----------+-------+------------+--------+\n",
      "\n",
      "-------------------------------------------\n",
      "Batch: 15\n",
      "-------------------------------------------\n",
      "+--------------------+------------+--------+-----------+-------+------------+--------+\n",
      "|          event_time| screen_name|hashtags|coordinates|country|country_code|location|\n",
      "+--------------------+------------+--------+-----------+-------+------------+--------+\n",
      "|Wed Mar 09 17:28:...|NFT__ukraine|      []|       null|Украина|          UA| Украина|\n",
      "+--------------------+------------+--------+-----------+-------+------------+--------+\n",
      "\n"
     ]
    },
    {
     "name": "stderr",
     "output_type": "stream",
     "text": [
      "\r",
      "[Stage 16:>                                                         (0 + 1) / 1]\r",
      "\r",
      "                                                                                \r"
     ]
    },
    {
     "name": "stdout",
     "output_type": "stream",
     "text": [
      "-------------------------------------------\n",
      "Batch: 16\n",
      "-------------------------------------------\n",
      "+--------------------+-------------+--------+-----------+-------+------------+--------+\n",
      "|          event_time|  screen_name|hashtags|coordinates|country|country_code|location|\n",
      "+--------------------+-------------+--------+-----------+-------+------------+--------+\n",
      "|Wed Mar 09 17:28:...|igoreremin415|      []|       null|Украина|          UA|    null|\n",
      "+--------------------+-------------+--------+-----------+-------+------------+--------+\n",
      "\n",
      "-------------------------------------------\n",
      "Batch: 17\n",
      "-------------------------------------------\n",
      "+--------------------+------------+--------+-----------+-------+------------+--------+\n",
      "|          event_time| screen_name|hashtags|coordinates|country|country_code|location|\n",
      "+--------------------+------------+--------+-----------+-------+------------+--------+\n",
      "|Wed Mar 09 17:28:...|NFT__ukraine|      []|       null|Украина|          UA| Украина|\n",
      "+--------------------+------------+--------+-----------+-------+------------+--------+\n",
      "\n",
      "-------------------------------------------\n",
      "Batch: 18\n",
      "-------------------------------------------\n",
      "+--------------------+------------+--------+-----------+-------+------------+--------+\n",
      "|          event_time| screen_name|hashtags|coordinates|country|country_code|location|\n",
      "+--------------------+------------+--------+-----------+-------+------------+--------+\n",
      "|Wed Mar 09 17:28:...|NFT__ukraine|      []|       null|Украина|          UA| Украина|\n",
      "+--------------------+------------+--------+-----------+-------+------------+--------+\n",
      "\n",
      "-------------------------------------------\n",
      "Batch: 19\n",
      "-------------------------------------------\n",
      "+--------------------+---------------+--------+-----------+-------+------------+--------+\n",
      "|          event_time|    screen_name|hashtags|coordinates|country|country_code|location|\n",
      "+--------------------+---------------+--------+-----------+-------+------------+--------+\n",
      "|Wed Mar 09 17:28:...|Irinakharkova22|      []|       null|Украина|          UA|    null|\n",
      "+--------------------+---------------+--------+-----------+-------+------------+--------+\n",
      "\n"
     ]
    },
    {
     "name": "stderr",
     "output_type": "stream",
     "text": [
      "\r",
      "[Stage 20:>                                                         (0 + 1) / 1]\r",
      "\r",
      "                                                                                \r"
     ]
    },
    {
     "name": "stdout",
     "output_type": "stream",
     "text": [
      "-------------------------------------------\n",
      "Batch: 20\n",
      "-------------------------------------------\n",
      "+----------+-----------+--------+-----------+-------+------------+--------+\n",
      "|event_time|screen_name|hashtags|coordinates|country|country_code|location|\n",
      "+----------+-----------+--------+-----------+-------+------------+--------+\n",
      "+----------+-----------+--------+-----------+-------+------------+--------+\n",
      "\n"
     ]
    },
    {
     "name": "stderr",
     "output_type": "stream",
     "text": [
      "\r",
      "[Stage 21:>                                                         (0 + 1) / 1]\r",
      "\r",
      "                                                                                \r"
     ]
    },
    {
     "name": "stdout",
     "output_type": "stream",
     "text": [
      "-------------------------------------------\n",
      "Batch: 21\n",
      "-------------------------------------------\n",
      "+--------------------+-----------+--------+-----------+-------+------------+---------------+\n",
      "|          event_time|screen_name|hashtags|coordinates|country|country_code|       location|\n",
      "+--------------------+-----------+--------+-----------+-------+------------+---------------+\n",
      "|Wed Mar 09 17:28:...|   Halk_A44|      []|       null|Ukraine|          UA|Odessa, Ukraine|\n",
      "+--------------------+-----------+--------+-----------+-------+------------+---------------+\n",
      "\n",
      "-------------------------------------------\n",
      "Batch: 22\n",
      "-------------------------------------------\n",
      "+--------------------+--------------+--------+-----------+-------+------------+-------------+\n",
      "|          event_time|   screen_name|hashtags|coordinates|country|country_code|     location|\n",
      "+--------------------+--------------+--------+-----------+-------+------------+-------------+\n",
      "|Wed Mar 09 17:28:...|Jeday_Hakimaru|      []|       null|Україна|          UA|Lviv, Ukraine|\n",
      "+--------------------+--------------+--------+-----------+-------+------------+-------------+\n",
      "\n"
     ]
    },
    {
     "name": "stderr",
     "output_type": "stream",
     "text": [
      "\r",
      "[Stage 23:>                                                         (0 + 1) / 1]\r",
      "\r",
      "                                                                                \r"
     ]
    },
    {
     "name": "stdout",
     "output_type": "stream",
     "text": [
      "-------------------------------------------\n",
      "Batch: 23\n",
      "-------------------------------------------\n",
      "+--------------------+-----------+--------+-----------+-------+------------+-------------+\n",
      "|          event_time|screen_name|hashtags|coordinates|country|country_code|     location|\n",
      "+--------------------+-----------+--------+-----------+-------+------------+-------------+\n",
      "|Wed Mar 09 17:29:...|   nebydlo_|      []|       null|Україна|          UA|Kyiv, Ukraine|\n",
      "+--------------------+-----------+--------+-----------+-------+------------+-------------+\n",
      "\n"
     ]
    },
    {
     "name": "stderr",
     "output_type": "stream",
     "text": [
      "\r",
      "[Stage 24:>                                                         (0 + 1) / 1]\r",
      "\r",
      "                                                                                \r"
     ]
    },
    {
     "name": "stdout",
     "output_type": "stream",
     "text": [
      "-------------------------------------------\n",
      "Batch: 24\n",
      "-------------------------------------------\n",
      "+--------------------+------------+--------+-----------+-------+------------+----------+\n",
      "|          event_time| screen_name|hashtags|coordinates|country|country_code|  location|\n",
      "+--------------------+------------+--------+-----------+-------+------------+----------+\n",
      "|Wed Mar 09 17:29:...|popovich_101|      []|       null|Ukraine|          UA|Texas, USA|\n",
      "+--------------------+------------+--------+-----------+-------+------------+----------+\n",
      "\n"
     ]
    },
    {
     "name": "stderr",
     "output_type": "stream",
     "text": [
      "\r",
      "[Stage 25:>                                                         (0 + 1) / 1]\r",
      "\r",
      "                                                                                \r"
     ]
    },
    {
     "name": "stdout",
     "output_type": "stream",
     "text": [
      "-------------------------------------------\n",
      "Batch: 25\n",
      "-------------------------------------------\n",
      "+----------+-----------+--------+-----------+-------+------------+--------+\n",
      "|event_time|screen_name|hashtags|coordinates|country|country_code|location|\n",
      "+----------+-----------+--------+-----------+-------+------------+--------+\n",
      "+----------+-----------+--------+-----------+-------+------------+--------+\n",
      "\n",
      "-------------------------------------------\n",
      "Batch: 26\n",
      "-------------------------------------------\n",
      "+--------------------+---------------+--------+-----------+-------+------------+--------+\n",
      "|          event_time|    screen_name|hashtags|coordinates|country|country_code|location|\n",
      "+--------------------+---------------+--------+-----------+-------+------------+--------+\n",
      "|Wed Mar 09 17:29:...|Irinakharkova22|      []|       null|Украина|          UA|    null|\n",
      "+--------------------+---------------+--------+-----------+-------+------------+--------+\n",
      "\n"
     ]
    },
    {
     "name": "stderr",
     "output_type": "stream",
     "text": [
      "\r",
      "[Stage 27:>                                                         (0 + 1) / 1]\r",
      "\r",
      "                                                                                \r"
     ]
    },
    {
     "name": "stdout",
     "output_type": "stream",
     "text": [
      "-------------------------------------------\n",
      "Batch: 27\n",
      "-------------------------------------------\n",
      "+----------+-----------+--------+-----------+-------+------------+--------+\n",
      "|event_time|screen_name|hashtags|coordinates|country|country_code|location|\n",
      "+----------+-----------+--------+-----------+-------+------------+--------+\n",
      "+----------+-----------+--------+-----------+-------+------------+--------+\n",
      "\n",
      "-------------------------------------------\n",
      "Batch: 28\n",
      "-------------------------------------------\n",
      "+--------------------+-----------+--------+-----------+-------+------------+--------+\n",
      "|          event_time|screen_name|hashtags|coordinates|country|country_code|location|\n",
      "+--------------------+-----------+--------+-----------+-------+------------+--------+\n",
      "|Wed Mar 09 17:29:...|    yCBETPI|      []|       null|Україна|          UA| Україна|\n",
      "+--------------------+-----------+--------+-----------+-------+------------+--------+\n",
      "\n",
      "-------------------------------------------\n",
      "Batch: 29\n",
      "-------------------------------------------\n",
      "+--------------------+-----------+--------+-----------+-------+------------+---------------+\n",
      "|          event_time|screen_name|hashtags|coordinates|country|country_code|       location|\n",
      "+--------------------+-----------+--------+-----------+-------+------------+---------------+\n",
      "|Wed Mar 09 17:29:...|   Halk_A44|      []|       null|Ukraine|          UA|Odessa, Ukraine|\n",
      "+--------------------+-----------+--------+-----------+-------+------------+---------------+\n",
      "\n",
      "-------------------------------------------\n",
      "Batch: 30\n",
      "-------------------------------------------\n",
      "+--------------------+-------------+--------+-----------+-------+------------+--------+\n",
      "|          event_time|  screen_name|hashtags|coordinates|country|country_code|location|\n",
      "+--------------------+-------------+--------+-----------+-------+------------+--------+\n",
      "|Wed Mar 09 17:29:...|igoreremin415|      []|       null|Украина|          UA|    null|\n",
      "+--------------------+-------------+--------+-----------+-------+------------+--------+\n",
      "\n",
      "-------------------------------------------\n",
      "Batch: 31\n",
      "-------------------------------------------\n",
      "+--------------------+-------------+--------+-----------+-------+------------+--------+\n",
      "|          event_time|  screen_name|hashtags|coordinates|country|country_code|location|\n",
      "+--------------------+-------------+--------+-----------+-------+------------+--------+\n",
      "|Wed Mar 09 17:29:...|sanitycheck78|      []|       null|Украина|          UA|    null|\n",
      "+--------------------+-------------+--------+-----------+-------+------------+--------+\n",
      "\n",
      "-------------------------------------------\n",
      "Batch: 32\n",
      "-------------------------------------------\n",
      "+--------------------+---------------+--------+-----------+-------+------------+--------+\n",
      "|          event_time|    screen_name|hashtags|coordinates|country|country_code|location|\n",
      "+--------------------+---------------+--------+-----------+-------+------------+--------+\n",
      "|Wed Mar 09 17:29:...|N6WCkTAowwh4O8G|      []|       null|Україна|          UA| Україна|\n",
      "+--------------------+---------------+--------+-----------+-------+------------+--------+\n",
      "\n",
      "-------------------------------------------\n",
      "Batch: 33\n",
      "-------------------------------------------\n",
      "+--------------------+---------------+--------+-----------+-------+------------+--------+\n",
      "|          event_time|    screen_name|hashtags|coordinates|country|country_code|location|\n",
      "+--------------------+---------------+--------+-----------+-------+------------+--------+\n",
      "|Wed Mar 09 17:30:...|DanielIlnitskiy|      []|       null|Ukraine|          UA|    null|\n",
      "+--------------------+---------------+--------+-----------+-------+------------+--------+\n",
      "\n",
      "-------------------------------------------\n",
      "Batch: 34\n",
      "-------------------------------------------\n",
      "+--------------------+--------------+--------+-----------+-------+------------+--------+\n",
      "|          event_time|   screen_name|hashtags|coordinates|country|country_code|location|\n",
      "+--------------------+--------------+--------+-----------+-------+------------+--------+\n",
      "|Wed Mar 09 17:30:...|25_neverescape|      []|       null|Україна|          UA| Україна|\n",
      "+--------------------+--------------+--------+-----------+-------+------------+--------+\n",
      "\n",
      "-------------------------------------------\n",
      "Batch: 35\n",
      "-------------------------------------------\n",
      "+--------------------+------------+--------+-----------+-------+------------+--------+\n",
      "|          event_time| screen_name|hashtags|coordinates|country|country_code|location|\n",
      "+--------------------+------------+--------+-----------+-------+------------+--------+\n",
      "|Wed Mar 09 17:30:...|moreprivacyy|      []|       null|Україна|          UA|    null|\n",
      "+--------------------+------------+--------+-----------+-------+------------+--------+\n",
      "\n",
      "-------------------------------------------\n",
      "Batch: 36\n",
      "-------------------------------------------\n",
      "+--------------------+------------+--------+-----------+-------+------------+--------+\n",
      "|          event_time| screen_name|hashtags|coordinates|country|country_code|location|\n",
      "+--------------------+------------+--------+-----------+-------+------------+--------+\n",
      "|Wed Mar 09 17:30:...|NFT__ukraine|      []|       null|Украина|          UA| Украина|\n",
      "+--------------------+------------+--------+-----------+-------+------------+--------+\n",
      "\n",
      "-------------------------------------------\n",
      "Batch: 37\n",
      "-------------------------------------------\n",
      "+--------------------+-----------+--------+-----------+-------+------------+--------+\n",
      "|          event_time|screen_name|hashtags|coordinates|country|country_code|location|\n",
      "+--------------------+-----------+--------+-----------+-------+------------+--------+\n",
      "|Wed Mar 09 17:30:...|   CastroUa|      []|       null|Україна|          UA| Украина|\n",
      "+--------------------+-----------+--------+-----------+-------+------------+--------+\n",
      "\n"
     ]
    },
    {
     "name": "stderr",
     "output_type": "stream",
     "text": [
      "\r",
      "[Stage 38:>                                                         (0 + 1) / 1]\r",
      "\r",
      "                                                                                \r"
     ]
    },
    {
     "name": "stdout",
     "output_type": "stream",
     "text": [
      "-------------------------------------------\n",
      "Batch: 38\n",
      "-------------------------------------------\n",
      "+--------------------+------------+--------+-----------+-------+------------+--------+\n",
      "|          event_time| screen_name|hashtags|coordinates|country|country_code|location|\n",
      "+--------------------+------------+--------+-----------+-------+------------+--------+\n",
      "|Wed Mar 09 17:30:...|NFT__ukraine|      []|       null|Украина|          UA| Украина|\n",
      "+--------------------+------------+--------+-----------+-------+------------+--------+\n",
      "\n",
      "-------------------------------------------\n",
      "Batch: 39\n",
      "-------------------------------------------\n",
      "+--------------------+-----------+--------+-----------+-------+------------+--------+\n",
      "|          event_time|screen_name|hashtags|coordinates|country|country_code|location|\n",
      "+--------------------+-----------+--------+-----------+-------+------------+--------+\n",
      "|Wed Mar 09 17:30:...|    R_Kulyk|      []|       null|Україна|          UA|    Kyiv|\n",
      "+--------------------+-----------+--------+-----------+-------+------------+--------+\n",
      "\n"
     ]
    },
    {
     "name": "stderr",
     "output_type": "stream",
     "text": [
      "\r",
      "[Stage 40:>                                                         (0 + 1) / 1]\r",
      "\r",
      "                                                                                \r"
     ]
    },
    {
     "name": "stdout",
     "output_type": "stream",
     "text": [
      "-------------------------------------------\n",
      "Batch: 40\n",
      "-------------------------------------------\n",
      "+--------------------+------------+--------+-----------+-------+------------+--------+\n",
      "|          event_time| screen_name|hashtags|coordinates|country|country_code|location|\n",
      "+--------------------+------------+--------+-----------+-------+------------+--------+\n",
      "|Wed Mar 09 17:30:...|NFT__ukraine|      []|       null|Украина|          UA| Украина|\n",
      "+--------------------+------------+--------+-----------+-------+------------+--------+\n",
      "\n"
     ]
    },
    {
     "name": "stderr",
     "output_type": "stream",
     "text": [
      "\r",
      "[Stage 41:>                                                         (0 + 1) / 1]\r",
      "\r",
      "                                                                                \r"
     ]
    },
    {
     "name": "stdout",
     "output_type": "stream",
     "text": [
      "-------------------------------------------\n",
      "Batch: 41\n",
      "-------------------------------------------\n",
      "+--------------------+------------+--------+-----------+-------+------------+--------+\n",
      "|          event_time| screen_name|hashtags|coordinates|country|country_code|location|\n",
      "+--------------------+------------+--------+-----------+-------+------------+--------+\n",
      "|Wed Mar 09 17:30:...|NFT__ukraine|      []|       null|Украина|          UA| Украина|\n",
      "+--------------------+------------+--------+-----------+-------+------------+--------+\n",
      "\n",
      "-------------------------------------------\n",
      "Batch: 42\n",
      "-------------------------------------------\n",
      "+--------------------+------------+--------+-----------+-------+------------+--------+\n",
      "|          event_time| screen_name|hashtags|coordinates|country|country_code|location|\n",
      "+--------------------+------------+--------+-----------+-------+------------+--------+\n",
      "|Wed Mar 09 17:30:...|NFT__ukraine|      []|       null|Украина|          UA| Украина|\n",
      "+--------------------+------------+--------+-----------+-------+------------+--------+\n",
      "\n",
      "-------------------------------------------\n",
      "Batch: 43\n",
      "-------------------------------------------\n",
      "+--------------------+------------+--------+-----------+-------+------------+--------+\n",
      "|          event_time| screen_name|hashtags|coordinates|country|country_code|location|\n",
      "+--------------------+------------+--------+-----------+-------+------------+--------+\n",
      "|Wed Mar 09 17:30:...|NFT__ukraine|      []|       null|Украина|          UA| Украина|\n",
      "+--------------------+------------+--------+-----------+-------+------------+--------+\n",
      "\n"
     ]
    },
    {
     "name": "stderr",
     "output_type": "stream",
     "text": [
      "\r",
      "[Stage 44:>                                                         (0 + 1) / 1]\r",
      "\r",
      "                                                                                \r"
     ]
    },
    {
     "name": "stdout",
     "output_type": "stream",
     "text": [
      "-------------------------------------------\n",
      "Batch: 44\n",
      "-------------------------------------------\n",
      "+--------------------+-----------+--------+-----------+-------+------------+--------+\n",
      "|          event_time|screen_name|hashtags|coordinates|country|country_code|location|\n",
      "+--------------------+-----------+--------+-----------+-------+------------+--------+\n",
      "|Wed Mar 09 17:30:...|  krishtopa|      []|       null|Украина|          UA|    Lviv|\n",
      "+--------------------+-----------+--------+-----------+-------+------------+--------+\n",
      "\n"
     ]
    },
    {
     "name": "stderr",
     "output_type": "stream",
     "text": [
      "\r",
      "[Stage 45:>                                                         (0 + 1) / 1]\r",
      "\r",
      "                                                                                \r"
     ]
    },
    {
     "name": "stdout",
     "output_type": "stream",
     "text": [
      "-------------------------------------------\n",
      "Batch: 45\n",
      "-------------------------------------------\n",
      "+--------------------+-----------+--------+-----------+-------+------------+---------------+\n",
      "|          event_time|screen_name|hashtags|coordinates|country|country_code|       location|\n",
      "+--------------------+-----------+--------+-----------+-------+------------+---------------+\n",
      "|Wed Mar 09 17:30:...|   Halk_A44|      []|       null|Ukraine|          UA|Odessa, Ukraine|\n",
      "+--------------------+-----------+--------+-----------+-------+------------+---------------+\n",
      "\n",
      "-------------------------------------------\n",
      "Batch: 46\n",
      "-------------------------------------------\n",
      "+--------------------+------------+--------+-----------+-------+------------+--------+\n",
      "|          event_time| screen_name|hashtags|coordinates|country|country_code|location|\n",
      "+--------------------+------------+--------+-----------+-------+------------+--------+\n",
      "|Wed Mar 09 17:30:...|NFT__ukraine|      []|       null|Украина|          UA| Украина|\n",
      "+--------------------+------------+--------+-----------+-------+------------+--------+\n",
      "\n"
     ]
    },
    {
     "name": "stderr",
     "output_type": "stream",
     "text": [
      "\r",
      "[Stage 47:>                                                         (0 + 1) / 1]\r",
      "\r",
      "                                                                                \r"
     ]
    },
    {
     "name": "stdout",
     "output_type": "stream",
     "text": [
      "-------------------------------------------\n",
      "Batch: 47\n",
      "-------------------------------------------\n",
      "+--------------------+------------+--------+-----------+-------+------------+--------+\n",
      "|          event_time| screen_name|hashtags|coordinates|country|country_code|location|\n",
      "+--------------------+------------+--------+-----------+-------+------------+--------+\n",
      "|Wed Mar 09 17:31:...|NFT__ukraine|      []|       null|Украина|          UA| Украина|\n",
      "+--------------------+------------+--------+-----------+-------+------------+--------+\n",
      "\n",
      "-------------------------------------------\n",
      "Batch: 48\n",
      "-------------------------------------------\n",
      "+--------------------+------------+--------+-----------+-------+------------+--------+\n",
      "|          event_time| screen_name|hashtags|coordinates|country|country_code|location|\n",
      "+--------------------+------------+--------+-----------+-------+------------+--------+\n",
      "|Wed Mar 09 17:31:...|NFT__ukraine|      []|       null|Украина|          UA| Украина|\n",
      "+--------------------+------------+--------+-----------+-------+------------+--------+\n",
      "\n"
     ]
    }
   ],
   "source": [
    "# 5. Display the results in the console.\n",
    "\n",
    "tweetsDF.writeStream \\\n",
    "        .format(\"console\") \\\n",
    "        .outputMode(\"append\") \\\n",
    "        .start() \\\n",
    "        .awaitTermination()\n"
   ]
  },
  {
   "cell_type": "markdown",
   "id": "a5619c6e",
   "metadata": {},
   "source": [
    "<a id='3'></a>\n",
    "## 3. Finalize the exercise\n",
    "\n",
    "It's always good to terminate things properly to avoid any kind of corruption."
   ]
  },
  {
   "cell_type": "markdown",
   "id": "b6a3e5bd",
   "metadata": {},
   "source": [
    "<a id='3.1'></a>\n",
    "### 3.1 Stop the Spark Streaming application\n",
    "In order to stop the Spark Streaming application go to **Kernel -> Shutdown**, that's it!"
   ]
  },
  {
   "cell_type": "markdown",
   "id": "912ddeae",
   "metadata": {},
   "source": [
    "<a id='3.2'></a>\n",
    "### 3.2 Stop the Kafka producer\n",
    "Go to the terminal where you started the producer and **press Ctrl + C**, it's that easy!"
   ]
  },
  {
   "cell_type": "markdown",
   "id": "9394c0fe",
   "metadata": {},
   "source": [
    "<a id='3.3'></a>\n",
    "### 3.3 Stop the Kafka service\n",
    "<p>Go to a terminal windows and type the following command:</p>\n",
    "<em>$ sudo service kafka stop</em>"
   ]
  }
 ],
 "metadata": {
  "kernelspec": {
   "display_name": "Python 3 (ipykernel)",
   "language": "python",
   "name": "python3"
  },
  "language_info": {
   "codemirror_mode": {
    "name": "ipython",
    "version": 3
   },
   "file_extension": ".py",
   "mimetype": "text/x-python",
   "name": "python",
   "nbconvert_exporter": "python",
   "pygments_lexer": "ipython3",
   "version": "3.7.3"
  }
 },
 "nbformat": 4,
 "nbformat_minor": 5
}
